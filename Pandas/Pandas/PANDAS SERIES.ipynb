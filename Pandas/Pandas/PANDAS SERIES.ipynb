{
 "cells": [
  {
   "cell_type": "markdown",
   "id": "11d79669",
   "metadata": {},
   "source": [
    "## Creating Dataframe"
   ]
  },
  {
   "cell_type": "code",
   "execution_count": 1,
   "id": "efcdb137",
   "metadata": {},
   "outputs": [],
   "source": [
    "import pandas as pd"
   ]
  },
  {
   "cell_type": "code",
   "execution_count": 3,
   "id": "ed464033",
   "metadata": {},
   "outputs": [
    {
     "data": {
      "text/plain": [
       "0    Pakistan\n",
       "1       India\n",
       "2       Japan\n",
       "3      Duabai\n",
       "dtype: object"
      ]
     },
     "execution_count": 3,
     "metadata": {},
     "output_type": "execute_result"
    }
   ],
   "source": [
    "# Creating through list\n",
    "\n",
    "country = ['Pakistan','India','Japan','Duabai']\n",
    "\n",
    "pd.Series(country)\n"
   ]
  },
  {
   "cell_type": "code",
   "execution_count": 4,
   "id": "d7461a51",
   "metadata": {},
   "outputs": [
    {
     "data": {
      "text/plain": [
       "0    22\n",
       "1    11\n",
       "2    33\n",
       "3    14\n",
       "4     7\n",
       "5     9\n",
       "dtype: int64"
      ]
     },
     "execution_count": 4,
     "metadata": {},
     "output_type": "execute_result"
    }
   ],
   "source": [
    "# Creating through numbers\n",
    "\n",
    "num=[22,11,33,14,7,9]\n",
    "\n",
    "pd.Series(num)"
   ]
  },
  {
   "cell_type": "code",
   "execution_count": 5,
   "id": "52f39b40",
   "metadata": {},
   "outputs": [
    {
     "data": {
      "text/plain": [
       "Computer    70\n",
       "Physics     50\n",
       "Urdu        40\n",
       "English     60\n",
       "Math        65\n",
       "dtype: int64"
      ]
     },
     "execution_count": 5,
     "metadata": {},
     "output_type": "execute_result"
    }
   ],
   "source": [
    "# Creating through index\n",
    "marks = [70,50,40,60,65]\n",
    "\n",
    "subject = ['Computer','Physics','Urdu','English','Math']\n",
    "\n",
    "pd.Series(marks,index=subject)\n"
   ]
  },
  {
   "cell_type": "code",
   "execution_count": 178,
   "id": "0ddc14af",
   "metadata": {},
   "outputs": [],
   "source": [
    "# craeting the name of series\n",
    "\n",
    "marks = [70,50,40,60,65]\n",
    "\n",
    "subject = ['Computer','Physics','Urdu','English','Math']\n",
    "\n",
    "marks_ser = pd.Series(marks,index=subject,name='Marks of Students')"
   ]
  },
  {
   "cell_type": "code",
   "execution_count": 11,
   "id": "7eb8ada0",
   "metadata": {},
   "outputs": [
    {
     "data": {
      "text/plain": [
       "Math        50\n",
       "Computer    60\n",
       "English     65\n",
       "Physics     72\n",
       "Name: Student Marks, dtype: int64"
      ]
     },
     "execution_count": 11,
     "metadata": {},
     "output_type": "execute_result"
    }
   ],
   "source": [
    "# Series from Dictionary\n",
    "mark = {\n",
    "    \n",
    "    'Math' : 50,\n",
    "    'Computer' : 60,\n",
    "    'English' : 65,\n",
    "    'Physics' : 72\n",
    "    \n",
    "}\n",
    "\n",
    "mark_ser = pd.Series(mark,name = 'Student Marks')\n",
    "\n",
    "mark_ser"
   ]
  },
  {
   "cell_type": "code",
   "execution_count": 13,
   "id": "b9f2b9a4",
   "metadata": {},
   "outputs": [
    {
     "data": {
      "text/plain": [
       "4"
      ]
     },
     "execution_count": 13,
     "metadata": {},
     "output_type": "execute_result"
    }
   ],
   "source": [
    "# size\n",
    "\n",
    "mark_ser.size"
   ]
  },
  {
   "cell_type": "code",
   "execution_count": 15,
   "id": "ba5c7f21",
   "metadata": {},
   "outputs": [
    {
     "data": {
      "text/plain": [
       "dtype('int64')"
      ]
     },
     "execution_count": 15,
     "metadata": {},
     "output_type": "execute_result"
    }
   ],
   "source": [
    "# checking datatype\n",
    "\n",
    "mark_ser.dtype"
   ]
  },
  {
   "cell_type": "code",
   "execution_count": 18,
   "id": "232c9c87",
   "metadata": {},
   "outputs": [
    {
     "data": {
      "text/plain": [
       "'Student Marks'"
      ]
     },
     "execution_count": 18,
     "metadata": {},
     "output_type": "execute_result"
    }
   ],
   "source": [
    "# checking the the name of series\n",
    "\n",
    "mark_ser.name"
   ]
  },
  {
   "cell_type": "code",
   "execution_count": 20,
   "id": "46001e99",
   "metadata": {},
   "outputs": [
    {
     "data": {
      "text/plain": [
       "True"
      ]
     },
     "execution_count": 20,
     "metadata": {},
     "output_type": "execute_result"
    }
   ],
   "source": [
    "mark_ser.is_unique"
   ]
  },
  {
   "cell_type": "code",
   "execution_count": 21,
   "id": "921f0b9e",
   "metadata": {},
   "outputs": [
    {
     "data": {
      "text/plain": [
       "Index(['Math', 'Computer', 'English', 'Physics'], dtype='object')"
      ]
     },
     "execution_count": 21,
     "metadata": {},
     "output_type": "execute_result"
    }
   ],
   "source": [
    "# cheking the index\n",
    "\n",
    "mark_ser.index"
   ]
  },
  {
   "cell_type": "code",
   "execution_count": 22,
   "id": "c4e608d0",
   "metadata": {},
   "outputs": [
    {
     "data": {
      "text/plain": [
       "array([50, 60, 65, 72], dtype=int64)"
      ]
     },
     "execution_count": 22,
     "metadata": {},
     "output_type": "execute_result"
    }
   ],
   "source": [
    "# cheking the values\n",
    "\n",
    "mark_ser.values"
   ]
  },
  {
   "cell_type": "code",
   "execution_count": 29,
   "id": "6c507494",
   "metadata": {},
   "outputs": [
    {
     "name": "stdout",
     "output_type": "stream",
     "text": [
      "<class 'pandas.core.frame.DataFrame'>\n",
      "<class 'pandas.core.series.Series'>\n"
     ]
    },
    {
     "name": "stderr",
     "output_type": "stream",
     "text": [
      "C:\\Users\\Moavia computer\\AppData\\Local\\Temp\\ipykernel_14296\\2609617994.py:10: FutureWarning: The squeeze argument has been deprecated and will be removed in a future version. Append .squeeze(\"columns\") to the call to squeeze.\n",
      "\n",
      "\n",
      "  subs = pd.read_csv('E:\\Datasets\\Pandas_dataSets\\subs.csv',squeeze=True)\n"
     ]
    }
   ],
   "source": [
    "subs = pd.read_csv('E:\\Datasets\\Pandas_dataSets\\subs.csv')\n",
    "\n",
    "# this is a data frame\n",
    "# we can chaeck\n",
    "\n",
    "print(type(subs))\n",
    "\n",
    "# we converst it in Series\n",
    "\n",
    "subs = pd.read_csv('E:\\Datasets\\Pandas_dataSets\\subs.csv',squeeze=True)\n",
    "\n",
    "print(type(subs))"
   ]
  },
  {
   "cell_type": "code",
   "execution_count": 35,
   "id": "73ae1ba7",
   "metadata": {},
   "outputs": [
    {
     "name": "stderr",
     "output_type": "stream",
     "text": [
      "C:\\Users\\Moavia computer\\AppData\\Local\\Temp\\ipykernel_14296\\3111982049.py:1: FutureWarning: The squeeze argument has been deprecated and will be removed in a future version. Append .squeeze(\"columns\") to the call to squeeze.\n",
      "\n",
      "\n",
      "  ipl = pd.read_csv('E:\\Datasets\\Pandas_dataSets\\kohli_ipl.csv',index_col = 'match_no',squeeze=True)\n"
     ]
    },
    {
     "data": {
      "text/plain": [
       "pandas.core.series.Series"
      ]
     },
     "execution_count": 35,
     "metadata": {},
     "output_type": "execute_result"
    }
   ],
   "source": [
    "ipl = pd.read_csv('E:\\Datasets\\Pandas_dataSets\\kohli_ipl.csv',index_col = 'match_no',squeeze=True)\n",
    "\n",
    "type(ipl)"
   ]
  },
  {
   "cell_type": "code",
   "execution_count": 37,
   "id": "aa523d22",
   "metadata": {},
   "outputs": [
    {
     "data": {
      "text/plain": [
       "0    48\n",
       "1    57\n",
       "2    40\n",
       "3    43\n",
       "4    44\n",
       "Name: Subscribers gained, dtype: int64"
      ]
     },
     "execution_count": 37,
     "metadata": {},
     "output_type": "execute_result"
    }
   ],
   "source": [
    "# head() method give the top 5 row from the series\n",
    "\n",
    "subs.head()"
   ]
  },
  {
   "cell_type": "code",
   "execution_count": 38,
   "id": "285f8138",
   "metadata": {},
   "outputs": [
    {
     "data": {
      "text/plain": [
       "0    48\n",
       "1    57\n",
       "2    40\n",
       "3    43\n",
       "4    44\n",
       "5    46\n",
       "6    33\n",
       "7    40\n",
       "8    44\n",
       "9    74\n",
       "Name: Subscribers gained, dtype: int64"
      ]
     },
     "execution_count": 38,
     "metadata": {},
     "output_type": "execute_result"
    }
   ],
   "source": [
    "# we can also do this\n",
    "subs.head(10)"
   ]
  },
  {
   "cell_type": "code",
   "execution_count": 40,
   "id": "418ba499",
   "metadata": {},
   "outputs": [
    {
     "data": {
      "text/plain": [
       "match_no\n",
       "211     0\n",
       "212    20\n",
       "213    73\n",
       "214    25\n",
       "215     7\n",
       "Name: runs, dtype: int64"
      ]
     },
     "execution_count": 40,
     "metadata": {},
     "output_type": "execute_result"
    }
   ],
   "source": [
    "# tail() method give the last 5 row from the series\n",
    "\n",
    "\n",
    "ipl.tail()"
   ]
  },
  {
   "cell_type": "code",
   "execution_count": 41,
   "id": "15d1c2bb",
   "metadata": {},
   "outputs": [
    {
     "data": {
      "text/plain": [
       "match_no\n",
       "206     0\n",
       "207     0\n",
       "208     9\n",
       "209    58\n",
       "210    30\n",
       "211     0\n",
       "212    20\n",
       "213    73\n",
       "214    25\n",
       "215     7\n",
       "Name: runs, dtype: int64"
      ]
     },
     "execution_count": 41,
     "metadata": {},
     "output_type": "execute_result"
    }
   ],
   "source": [
    "# we can also do this\n",
    "\n",
    "ipl.tail(10)"
   ]
  },
  {
   "cell_type": "code",
   "execution_count": 42,
   "id": "13b0d0cc",
   "metadata": {},
   "outputs": [
    {
     "data": {
      "text/plain": [
       "match_no\n",
       "164    100\n",
       "Name: runs, dtype: int64"
      ]
     },
     "execution_count": 42,
     "metadata": {},
     "output_type": "execute_result"
    }
   ],
   "source": [
    "# sample() method give us a random value from our data\n",
    "\n",
    "ipl.sample()"
   ]
  },
  {
   "cell_type": "code",
   "execution_count": 45,
   "id": "3eb11ffa",
   "metadata": {},
   "outputs": [
    {
     "data": {
      "text/plain": [
       "357    177\n",
       "32      50\n",
       "51     128\n",
       "164    180\n",
       "322    157\n",
       "352    196\n",
       "339    221\n",
       "229    261\n",
       "278    173\n",
       "250    179\n",
       "Name: Subscribers gained, dtype: int64"
      ]
     },
     "execution_count": 45,
     "metadata": {},
     "output_type": "execute_result"
    }
   ],
   "source": [
    "# we can also do this\n",
    "\n",
    "subs.sample(10)"
   ]
  },
  {
   "cell_type": "code",
   "execution_count": 52,
   "id": "48182f3e",
   "metadata": {},
   "outputs": [
    {
     "name": "stdout",
     "output_type": "stream",
     "text": [
      "<class 'pandas.core.frame.DataFrame'>\n",
      "<class 'pandas.core.series.Series'>\n"
     ]
    },
    {
     "name": "stderr",
     "output_type": "stream",
     "text": [
      "C:\\Users\\Moavia computer\\AppData\\Local\\Temp\\ipykernel_14296\\3274647846.py:6: FutureWarning: The squeeze argument has been deprecated and will be removed in a future version. Append .squeeze(\"columns\") to the call to squeeze.\n",
      "\n",
      "\n",
      "  movies = pd.read_csv('E:\\\\Datasets\\\\Pandas_dataSets\\\\bollywood.csv',index_col='movie',squeeze=True)\n"
     ]
    }
   ],
   "source": [
    "movies = pd.read_csv('E:\\\\Datasets\\\\Pandas_dataSets\\\\bollywood.csv',index_col='movie')\n",
    "\n",
    "print(type(movies))\n",
    "\n",
    "# we covert this data frame into series by using squeez function\n",
    "movies = pd.read_csv('E:\\\\Datasets\\\\Pandas_dataSets\\\\bollywood.csv',index_col='movie',squeeze=True)\n",
    "\n",
    "print(type(movies))"
   ]
  },
  {
   "cell_type": "code",
   "execution_count": 53,
   "id": "b2c82d68",
   "metadata": {},
   "outputs": [
    {
     "data": {
      "text/plain": [
       "Akshay Kumar        48\n",
       "Amitabh Bachchan    45\n",
       "Ajay Devgn          38\n",
       "Salman Khan         31\n",
       "Sanjay Dutt         26\n",
       "                    ..\n",
       "Diganth              1\n",
       "Parveen Kaur         1\n",
       "Seema Azmi           1\n",
       "Akanksha Puri        1\n",
       "Edwin Fernandes      1\n",
       "Name: lead, Length: 566, dtype: int64"
      ]
     },
     "execution_count": 53,
     "metadata": {},
     "output_type": "execute_result"
    }
   ],
   "source": [
    "# value_counts() it gives the number of differnet values in our data\n",
    "\n",
    "movies.value_counts()"
   ]
  },
  {
   "cell_type": "code",
   "execution_count": 54,
   "id": "0f510449",
   "metadata": {},
   "outputs": [
    {
     "data": {
      "text/plain": [
       "movie\n",
       "Qaidi Band                            Aadar Jain\n",
       "Roar: Tigers of the Sundarbans      Aadil Chahal\n",
       "Lipstick Under My Burkha            Aahana Kumra\n",
       "Raat Gayi Baat Gayi?                Aamir Bashir\n",
       "Talaash: The Answer Lies Within       Aamir Khan\n",
       "                                        ...     \n",
       "Dil Toh Deewana Hai                  Zeenat Aman\n",
       "Sallu Ki Shaadi                      Zeenat Aman\n",
       "Strings of Passion                   Zeenat Aman\n",
       "Dunno Y... Na Jaane Kyon             Zeenat Aman\n",
       "Taj Mahal: An Eternal Love Story     Zulfi Sayed\n",
       "Name: lead, Length: 1500, dtype: object"
      ]
     },
     "execution_count": 54,
     "metadata": {},
     "output_type": "execute_result"
    }
   ],
   "source": [
    "# sort_values function by default sort the all values in ascending order\n",
    "\n",
    "movies.sort_values()"
   ]
  },
  {
   "cell_type": "code",
   "execution_count": 58,
   "id": "4ee730fd",
   "metadata": {},
   "outputs": [
    {
     "data": {
      "text/plain": [
       "movie\n",
       "Taj Mahal: An Eternal Love Story     Zulfi Sayed\n",
       "Dil Toh Deewana Hai                  Zeenat Aman\n",
       "Strings of Passion                   Zeenat Aman\n",
       "Sallu Ki Shaadi                      Zeenat Aman\n",
       "Dunno Y... Na Jaane Kyon             Zeenat Aman\n",
       "                                        ...     \n",
       "Fanaa (2006 film)                     Aamir Khan\n",
       "Raat Gayi Baat Gayi?                Aamir Bashir\n",
       "Lipstick Under My Burkha            Aahana Kumra\n",
       "Roar: Tigers of the Sundarbans      Aadil Chahal\n",
       "Qaidi Band                            Aadar Jain\n",
       "Name: lead, Length: 1500, dtype: object"
      ]
     },
     "execution_count": 58,
     "metadata": {},
     "output_type": "execute_result"
    }
   ],
   "source": [
    "# sort_values function sort the all values in descending order if we pass the parameter ascending=False\n",
    "\n",
    "movies.sort_values(ascending=False)"
   ]
  },
  {
   "cell_type": "code",
   "execution_count": 67,
   "id": "65458a03",
   "metadata": {
    "scrolled": true
   },
   "outputs": [
    {
     "data": {
      "text/plain": [
       "movie\n",
       "Taj Mahal: An Eternal Love Story     Zulfi Sayed\n",
       "Strings of Passion                   Zeenat Aman\n",
       "Dil Toh Deewana Hai                  Zeenat Aman\n",
       "Dunno Y... Na Jaane Kyon             Zeenat Aman\n",
       "Sallu Ki Shaadi                      Zeenat Aman\n",
       "                                        ...     \n",
       "Talaash: The Answer Lies Within       Aamir Khan\n",
       "Raat Gayi Baat Gayi?                Aamir Bashir\n",
       "Lipstick Under My Burkha            Aahana Kumra\n",
       "Roar: Tigers of the Sundarbans      Aadil Chahal\n",
       "Qaidi Band                            Aadar Jain\n",
       "Name: lead, Length: 1500, dtype: object"
      ]
     },
     "execution_count": 67,
     "metadata": {},
     "output_type": "execute_result"
    }
   ],
   "source": [
    "movies.sort_values(ascending=False)"
   ]
  },
  {
   "cell_type": "code",
   "execution_count": 70,
   "id": "d6c20829",
   "metadata": {},
   "outputs": [],
   "source": [
    "ipl.sort_values(ascending=False,inplace=True)"
   ]
  },
  {
   "cell_type": "code",
   "execution_count": 71,
   "id": "1fd8ced3",
   "metadata": {},
   "outputs": [
    {
     "data": {
      "text/plain": [
       "match_no\n",
       "128    113\n",
       "126    109\n",
       "123    108\n",
       "164    100\n",
       "120    100\n",
       "      ... \n",
       "93       0\n",
       "211      0\n",
       "130      0\n",
       "8        0\n",
       "135      0\n",
       "Name: runs, Length: 215, dtype: int64"
      ]
     },
     "execution_count": 71,
     "metadata": {},
     "output_type": "execute_result"
    }
   ],
   "source": [
    "ipl"
   ]
  },
  {
   "cell_type": "code",
   "execution_count": 60,
   "id": "43d1e598",
   "metadata": {},
   "outputs": [
    {
     "data": {
      "text/plain": [
       "movie\n",
       "1920 (film)                   Rajniesh Duggall\n",
       "1920: London                     Sharman Joshi\n",
       "1920: The Evil Returns             Vicky Ahuja\n",
       "1971 (2007 film)                Manoj Bajpayee\n",
       "2 States (2014 film)              Arjun Kapoor\n",
       "                                   ...        \n",
       "Zindagi 50-50                      Veena Malik\n",
       "Zindagi Na Milegi Dobara        Hrithik Roshan\n",
       "Zindagi Tere Naam           Mithun Chakraborty\n",
       "Zokkomon                       Darsheel Safary\n",
       "Zor Lagaa Ke...Haiya!            Meghan Jadhav\n",
       "Name: lead, Length: 1500, dtype: object"
      ]
     },
     "execution_count": 60,
     "metadata": {},
     "output_type": "execute_result"
    }
   ],
   "source": [
    "movies.sort_index()"
   ]
  },
  {
   "cell_type": "code",
   "execution_count": 62,
   "id": "b3dafd7d",
   "metadata": {},
   "outputs": [
    {
     "data": {
      "text/plain": [
       "movie\n",
       "Zor Lagaa Ke...Haiya!            Meghan Jadhav\n",
       "Zokkomon                       Darsheel Safary\n",
       "Zindagi Tere Naam           Mithun Chakraborty\n",
       "Zindagi Na Milegi Dobara        Hrithik Roshan\n",
       "Zindagi 50-50                      Veena Malik\n",
       "                                   ...        \n",
       "2 States (2014 film)              Arjun Kapoor\n",
       "1971 (2007 film)                Manoj Bajpayee\n",
       "1920: The Evil Returns             Vicky Ahuja\n",
       "1920: London                     Sharman Joshi\n",
       "1920 (film)                   Rajniesh Duggall\n",
       "Name: lead, Length: 1500, dtype: object"
      ]
     },
     "execution_count": 62,
     "metadata": {},
     "output_type": "execute_result"
    }
   ],
   "source": [
    "# this will not change the original data\n",
    "\n",
    "movies.sort_index(ascending=False)"
   ]
  },
  {
   "cell_type": "code",
   "execution_count": 63,
   "id": "bcdc9332",
   "metadata": {},
   "outputs": [
    {
     "data": {
      "text/plain": [
       "movie\n",
       "Uri: The Surgical Strike                   Vicky Kaushal\n",
       "Battalion 609                                Vicky Ahuja\n",
       "The Accidental Prime Minister (film)         Anupam Kher\n",
       "Why Cheat India                            Emraan Hashmi\n",
       "Evening Shadows                         Mona Ambegaonkar\n",
       "                                              ...       \n",
       "Hum Tumhare Hain Sanam                    Shah Rukh Khan\n",
       "Aankhen (2002 film)                     Amitabh Bachchan\n",
       "Saathiya (film)                             Vivek Oberoi\n",
       "Company (film)                                Ajay Devgn\n",
       "Awara Paagal Deewana                        Akshay Kumar\n",
       "Name: lead, Length: 1500, dtype: object"
      ]
     },
     "execution_count": 63,
     "metadata": {},
     "output_type": "execute_result"
    }
   ],
   "source": [
    "# original data not changed\n",
    "movies"
   ]
  },
  {
   "cell_type": "code",
   "execution_count": 64,
   "id": "9dccde8a",
   "metadata": {},
   "outputs": [],
   "source": [
    "# if we want to change the original data we set the parameter inpalce =True\n",
    "\n",
    "movies.sort_index(ascending=False,inplace=True)"
   ]
  },
  {
   "cell_type": "code",
   "execution_count": 72,
   "id": "0cf348a5",
   "metadata": {},
   "outputs": [
    {
     "data": {
      "text/plain": [
       "movie\n",
       "Zor Lagaa Ke...Haiya!            Meghan Jadhav\n",
       "Zokkomon                       Darsheel Safary\n",
       "Zindagi Tere Naam           Mithun Chakraborty\n",
       "Zindagi Na Milegi Dobara        Hrithik Roshan\n",
       "Zindagi 50-50                      Veena Malik\n",
       "                                   ...        \n",
       "2 States (2014 film)              Arjun Kapoor\n",
       "1971 (2007 film)                Manoj Bajpayee\n",
       "1920: The Evil Returns             Vicky Ahuja\n",
       "1920: London                     Sharman Joshi\n",
       "1920 (film)                   Rajniesh Duggall\n",
       "Name: lead, Length: 1500, dtype: object"
      ]
     },
     "execution_count": 72,
     "metadata": {},
     "output_type": "execute_result"
    }
   ],
   "source": [
    "# now original data changed and indexes are sorted in descending order\n",
    "\n",
    "movies"
   ]
  },
  {
   "cell_type": "markdown",
   "id": "0d2ab601",
   "metadata": {},
   "source": [
    "## Series Math Methods"
   ]
  },
  {
   "cell_type": "code",
   "execution_count": 80,
   "id": "7f31b0af",
   "metadata": {},
   "outputs": [
    {
     "name": "stdout",
     "output_type": "stream",
     "text": [
      "1500\n",
      "215\n"
     ]
    }
   ],
   "source": [
    "# count() this function count the number of rows in data\n",
    "# count does not count the nan values\n",
    "\n",
    "print(movies.count())\n",
    "\n",
    "print(ipl.count())\n"
   ]
  },
  {
   "cell_type": "code",
   "execution_count": 85,
   "id": "1bf9bf28",
   "metadata": {},
   "outputs": [
    {
     "name": "stdout",
     "output_type": "stream",
     "text": [
      "6634\n",
      "49510\n"
     ]
    }
   ],
   "source": [
    "# sum() function sum of all values in a series\n",
    "\n",
    "print(ipl.sum())\n",
    "\n",
    "print(subs.sum())"
   ]
  },
  {
   "cell_type": "code",
   "execution_count": 86,
   "id": "f6caa762",
   "metadata": {},
   "outputs": [
    {
     "name": "stdout",
     "output_type": "stream",
     "text": [
      "0\n"
     ]
    }
   ],
   "source": [
    "print(subs.product())"
   ]
  },
  {
   "cell_type": "code",
   "execution_count": 90,
   "id": "95bde8c2",
   "metadata": {},
   "outputs": [
    {
     "name": "stdout",
     "output_type": "stream",
     "text": [
      "135.64383561643837\n",
      "30.855813953488372\n"
     ]
    }
   ],
   "source": [
    "# mean() it give the mean value\n",
    "\n",
    "print(subs.mean())\n",
    "\n",
    "print(ipl.mean())\n",
    "\n"
   ]
  },
  {
   "cell_type": "code",
   "execution_count": 91,
   "id": "f061e948",
   "metadata": {},
   "outputs": [
    {
     "name": "stdout",
     "output_type": "stream",
     "text": [
      "123.0\n",
      "24.0\n"
     ]
    }
   ],
   "source": [
    "print(subs.median())\n",
    "\n",
    "print(ipl.median())"
   ]
  },
  {
   "cell_type": "code",
   "execution_count": 95,
   "id": "8253cbf7",
   "metadata": {},
   "outputs": [
    {
     "name": "stdout",
     "output_type": "stream",
     "text": [
      "0    105\n",
      "Name: Subscribers gained, dtype: int64\n",
      "0    0\n",
      "Name: runs, dtype: int64\n"
     ]
    },
    {
     "data": {
      "text/plain": [
       "0    Akshay Kumar\n",
       "Name: lead, dtype: object"
      ]
     },
     "execution_count": 95,
     "metadata": {},
     "output_type": "execute_result"
    }
   ],
   "source": [
    "print(subs.mode())\n",
    "\n",
    "print(ipl.mode())\n",
    "\n",
    "movies.mode()"
   ]
  },
  {
   "cell_type": "code",
   "execution_count": 98,
   "id": "dfe931f9",
   "metadata": {},
   "outputs": [
    {
     "name": "stdout",
     "output_type": "stream",
     "text": [
      "26.22980132830278\n",
      "62.67502303725269\n"
     ]
    }
   ],
   "source": [
    "print(ipl.std())\n",
    "\n",
    "print(subs.std())"
   ]
  },
  {
   "cell_type": "code",
   "execution_count": 101,
   "id": "6da92e29",
   "metadata": {},
   "outputs": [
    {
     "name": "stdout",
     "output_type": "stream",
     "text": [
      "688.0024777222343\n",
      "3928.1585127201556\n"
     ]
    }
   ],
   "source": [
    "print(ipl.var())\n",
    "\n",
    "print(subs.var())"
   ]
  },
  {
   "cell_type": "code",
   "execution_count": 106,
   "id": "e4563df3",
   "metadata": {},
   "outputs": [
    {
     "name": "stdout",
     "output_type": "stream",
     "text": [
      "113\n",
      "33\n"
     ]
    }
   ],
   "source": [
    "print(ipl.max())\n",
    "\n",
    "print(subs.min())"
   ]
  },
  {
   "cell_type": "code",
   "execution_count": 108,
   "id": "272de883",
   "metadata": {},
   "outputs": [
    {
     "name": "stdout",
     "output_type": "stream",
     "text": [
      "count    215.000000\n",
      "mean      30.855814\n",
      "std       26.229801\n",
      "min        0.000000\n",
      "25%        9.000000\n",
      "50%       24.000000\n",
      "75%       48.000000\n",
      "max      113.000000\n",
      "Name: runs, dtype: float64\n",
      "count    365.000000\n",
      "mean     135.643836\n",
      "std       62.675023\n",
      "min       33.000000\n",
      "25%       88.000000\n",
      "50%      123.000000\n",
      "75%      177.000000\n",
      "max      396.000000\n",
      "Name: Subscribers gained, dtype: float64\n"
     ]
    }
   ],
   "source": [
    "print(ipl.describe())\n",
    "\n",
    "print(subs.describe())"
   ]
  },
  {
   "cell_type": "code",
   "execution_count": 109,
   "id": "8f21978a",
   "metadata": {},
   "outputs": [
    {
     "name": "stdout",
     "output_type": "stream",
     "text": [
      "<class 'pandas.core.series.Series'>\n",
      "Int64Index: 215 entries, 128 to 135\n",
      "Series name: runs\n",
      "Non-Null Count  Dtype\n",
      "--------------  -----\n",
      "215 non-null    int64\n",
      "dtypes: int64(1)\n",
      "memory usage: 3.4 KB\n"
     ]
    }
   ],
   "source": [
    "ipl.info()"
   ]
  },
  {
   "cell_type": "code",
   "execution_count": 110,
   "id": "b21caf95",
   "metadata": {},
   "outputs": [
    {
     "name": "stdout",
     "output_type": "stream",
     "text": [
      "<class 'pandas.core.series.Series'>\n",
      "RangeIndex: 365 entries, 0 to 364\n",
      "Series name: Subscribers gained\n",
      "Non-Null Count  Dtype\n",
      "--------------  -----\n",
      "365 non-null    int64\n",
      "dtypes: int64(1)\n",
      "memory usage: 3.0 KB\n"
     ]
    }
   ],
   "source": [
    "subs.info()"
   ]
  },
  {
   "cell_type": "markdown",
   "id": "401a9e43",
   "metadata": {},
   "source": [
    "## Series Indexing\n",
    "\n",
    "`Series only work with positive indexing`\n",
    "\n",
    "`it does not work with negative indexing`"
   ]
  },
  {
   "cell_type": "code",
   "execution_count": 111,
   "id": "602614f7",
   "metadata": {},
   "outputs": [
    {
     "data": {
      "text/plain": [
       "[70, 50, 40, 60, 65]"
      ]
     },
     "execution_count": 111,
     "metadata": {},
     "output_type": "execute_result"
    }
   ],
   "source": [
    "marks"
   ]
  },
  {
   "cell_type": "code",
   "execution_count": 112,
   "id": "56b943ff",
   "metadata": {},
   "outputs": [
    {
     "data": {
      "text/plain": [
       "40"
      ]
     },
     "execution_count": 112,
     "metadata": {},
     "output_type": "execute_result"
    }
   ],
   "source": [
    "marks[2]"
   ]
  },
  {
   "cell_type": "code",
   "execution_count": 114,
   "id": "4748a658",
   "metadata": {},
   "outputs": [
    {
     "data": {
      "text/plain": [
       "38"
      ]
     },
     "execution_count": 114,
     "metadata": {},
     "output_type": "execute_result"
    }
   ],
   "source": [
    "ipl[30]"
   ]
  },
  {
   "cell_type": "code",
   "execution_count": 115,
   "id": "5a68cff7",
   "metadata": {},
   "outputs": [
    {
     "data": {
      "text/plain": [
       "'Vidya Balan'"
      ]
     },
     "execution_count": 115,
     "metadata": {},
     "output_type": "execute_result"
    }
   ],
   "source": [
    "movies[1000]"
   ]
  },
  {
   "cell_type": "code",
   "execution_count": 118,
   "id": "295468a1",
   "metadata": {},
   "outputs": [],
   "source": [
    "# ipl[-1] this code gives us a error because series does not work with negative indexing"
   ]
  },
  {
   "cell_type": "code",
   "execution_count": 128,
   "id": "d8c5511f",
   "metadata": {},
   "outputs": [
    {
     "data": {
      "text/plain": [
       "movie\n",
       "Zed Plus                     Vinod Acharya\n",
       "Zameer: The Fire Within         Ajay Devgn\n",
       "Zameen (2003 film)              Ajay Devgn\n",
       "Zamaanat                         Jeetendra\n",
       "Yuvvraaj                       Salman Khan\n",
       "Yuva                            Ajay Devgn\n",
       "Yun Hota Toh Kya Hota         Paresh Rawal\n",
       "Youngistaan                Jackky Bhagnani\n",
       "Yeh Saali Aashiqui            Vardhan Puri\n",
       "Yeh Mera India                 Anupam Kher\n",
       "Name: lead, dtype: object"
      ]
     },
     "execution_count": 128,
     "metadata": {},
     "output_type": "execute_result"
    }
   ],
   "source": [
    "# Slicing\n",
    "\n",
    "movies[11:21]"
   ]
  },
  {
   "cell_type": "code",
   "execution_count": 130,
   "id": "821b56b4",
   "metadata": {},
   "outputs": [
    {
     "data": {
      "text/plain": [
       "match_no\n",
       "128    113\n",
       "126    109\n",
       "123    108\n",
       "164    100\n",
       "120    100\n",
       "      ... \n",
       "93       0\n",
       "211      0\n",
       "130      0\n",
       "8        0\n",
       "135      0\n",
       "Name: runs, Length: 215, dtype: int64"
      ]
     },
     "execution_count": 130,
     "metadata": {},
     "output_type": "execute_result"
    }
   ],
   "source": [
    "ipl[0:]"
   ]
  },
  {
   "cell_type": "code",
   "execution_count": 131,
   "id": "dfd83d01",
   "metadata": {},
   "outputs": [
    {
     "data": {
      "text/plain": [
       "match_no\n",
       "128    113\n",
       "126    109\n",
       "123    108\n",
       "164    100\n",
       "120    100\n",
       "82      99\n",
       "81      93\n",
       "145     92\n",
       "178     90\n",
       "160     84\n",
       "110     82\n",
       "119     80\n",
       "117     79\n",
       "116     75\n",
       "127     75\n",
       "99      73\n",
       "68      73\n",
       "213     73\n",
       "175     72\n",
       "188     72\n",
       "41      71\n",
       "152     70\n",
       "52      70\n",
       "148     68\n",
       "45      67\n",
       "Name: runs, dtype: int64"
      ]
     },
     "execution_count": 131,
     "metadata": {},
     "output_type": "execute_result"
    }
   ],
   "source": [
    "ipl[:25]"
   ]
  },
  {
   "cell_type": "code",
   "execution_count": 132,
   "id": "7c0b2721",
   "metadata": {},
   "outputs": [
    {
     "data": {
      "text/plain": [
       "match_no\n",
       "128    113\n",
       "164    100\n",
       "81      93\n",
       "160     84\n",
       "117     79\n",
       "      ... \n",
       "75       1\n",
       "113      1\n",
       "91       0\n",
       "93       0\n",
       "8        0\n",
       "Name: runs, Length: 72, dtype: int64"
      ]
     },
     "execution_count": 132,
     "metadata": {},
     "output_type": "execute_result"
    }
   ],
   "source": [
    "ipl[::3]"
   ]
  },
  {
   "cell_type": "code",
   "execution_count": 133,
   "id": "b1552be7",
   "metadata": {},
   "outputs": [
    {
     "data": {
      "text/plain": [
       "match_no\n",
       "1      1\n",
       "87     0\n",
       "91     0\n",
       "206    0\n",
       "207    0\n",
       "93     0\n",
       "211    0\n",
       "130    0\n",
       "8      0\n",
       "135    0\n",
       "Name: runs, dtype: int64"
      ]
     },
     "execution_count": 133,
     "metadata": {},
     "output_type": "execute_result"
    }
   ],
   "source": [
    "ipl[-10:]"
   ]
  },
  {
   "cell_type": "code",
   "execution_count": 135,
   "id": "f945517d",
   "metadata": {},
   "outputs": [
    {
     "data": {
      "text/plain": [
       "match_no\n",
       "1      1\n",
       "87     0\n",
       "91     0\n",
       "206    0\n",
       "207    0\n",
       "Name: runs, dtype: int64"
      ]
     },
     "execution_count": 135,
     "metadata": {},
     "output_type": "execute_result"
    }
   ],
   "source": [
    "ipl[-10:-5]"
   ]
  },
  {
   "cell_type": "code",
   "execution_count": 138,
   "id": "d8884600",
   "metadata": {},
   "outputs": [
    {
     "data": {
      "text/plain": [
       "movie\n",
       "Zindagi Tere Naam        Mithun Chakraborty\n",
       "Zindaggi Rocks                 Sushmita Sen\n",
       "Student of the Year 2          Tiger Shroff\n",
       "Yuvvraaj                        Salman Khan\n",
       "Ghanchakkar (film)              Vidya Balan\n",
       "Name: lead, dtype: object"
      ]
     },
     "execution_count": 138,
     "metadata": {},
     "output_type": "execute_result"
    }
   ],
   "source": [
    "# fancy indexing\n",
    "# fancy indexing we get the specific index values \n",
    "\n",
    "movies[[2,5,200,15,1000]]"
   ]
  },
  {
   "cell_type": "code",
   "execution_count": 139,
   "id": "db6ff514",
   "metadata": {},
   "outputs": [
    {
     "data": {
      "text/plain": [
       "'Tiger Shroff'"
      ]
     },
     "execution_count": 139,
     "metadata": {},
     "output_type": "execute_result"
    }
   ],
   "source": [
    "# slicing through indexing\n",
    "\n",
    "movies['Student of the Year 2']"
   ]
  },
  {
   "cell_type": "markdown",
   "id": "5d6658dd",
   "metadata": {},
   "source": [
    "## Editing Series\n"
   ]
  },
  {
   "cell_type": "code",
   "execution_count": 143,
   "id": "960755cc",
   "metadata": {},
   "outputs": [
    {
     "data": {
      "text/plain": [
       "0    10\n",
       "1    20\n",
       "2    15\n",
       "3    22\n",
       "4    34\n",
       "5    65\n",
       "6    76\n",
       "7    19\n",
       "8    30\n",
       "9    25\n",
       "dtype: int64"
      ]
     },
     "execution_count": 143,
     "metadata": {},
     "output_type": "execute_result"
    }
   ],
   "source": [
    "ser = [10,20,15,22,34,65,76,19,30,25]\n",
    "\n",
    "ser  = pd.Series(ser)\n",
    "ser"
   ]
  },
  {
   "cell_type": "code",
   "execution_count": 146,
   "id": "f034a39a",
   "metadata": {},
   "outputs": [],
   "source": [
    "ser[1] = 100"
   ]
  },
  {
   "cell_type": "code",
   "execution_count": 148,
   "id": "62012fc8",
   "metadata": {},
   "outputs": [
    {
     "data": {
      "text/plain": [
       "0     10\n",
       "1    100\n",
       "2     15\n",
       "3     22\n",
       "4     34\n",
       "5     65\n",
       "6     76\n",
       "7     19\n",
       "8     30\n",
       "9     25\n",
       "dtype: int64"
      ]
     },
     "execution_count": 148,
     "metadata": {},
     "output_type": "execute_result"
    }
   ],
   "source": [
    "ser"
   ]
  },
  {
   "cell_type": "code",
   "execution_count": 149,
   "id": "183a7f63",
   "metadata": {},
   "outputs": [],
   "source": [
    "ser[20] = 90"
   ]
  },
  {
   "cell_type": "code",
   "execution_count": 150,
   "id": "f6f5dcef",
   "metadata": {},
   "outputs": [
    {
     "data": {
      "text/plain": [
       "0      10\n",
       "1     100\n",
       "2      15\n",
       "3      22\n",
       "4      34\n",
       "5      65\n",
       "6      76\n",
       "7      19\n",
       "8      30\n",
       "9      25\n",
       "20     90\n",
       "dtype: int64"
      ]
     },
     "execution_count": 150,
     "metadata": {},
     "output_type": "execute_result"
    }
   ],
   "source": [
    "ser"
   ]
  },
  {
   "cell_type": "code",
   "execution_count": 153,
   "id": "8780cece",
   "metadata": {},
   "outputs": [
    {
     "data": {
      "text/plain": [
       "0      10\n",
       "1     100\n",
       "2     130\n",
       "3      12\n",
       "4      13\n",
       "5      65\n",
       "6      76\n",
       "7      19\n",
       "8      30\n",
       "9      25\n",
       "20     90\n",
       "dtype: int64"
      ]
     },
     "execution_count": 153,
     "metadata": {},
     "output_type": "execute_result"
    }
   ],
   "source": [
    "ser[2:5] = [130,12,13]\n",
    "ser"
   ]
  },
  {
   "cell_type": "code",
   "execution_count": 155,
   "id": "cfdf0c3f",
   "metadata": {},
   "outputs": [
    {
     "data": {
      "text/plain": [
       "0      10\n",
       "1     100\n",
       "2     130\n",
       "3      12\n",
       "4      13\n",
       "5      65\n",
       "6      70\n",
       "7      19\n",
       "8      45\n",
       "9      25\n",
       "20     85\n",
       "dtype: int64"
      ]
     },
     "execution_count": 155,
     "metadata": {},
     "output_type": "execute_result"
    }
   ],
   "source": [
    "ser[[20,8,6]] = [85,45,70]\n",
    "\n",
    "ser"
   ]
  },
  {
   "cell_type": "code",
   "execution_count": 157,
   "id": "f230a0b0",
   "metadata": {},
   "outputs": [
    {
     "data": {
      "text/plain": [
       "0           10\n",
       "1          100\n",
       "2          130\n",
       "3           12\n",
       "4           13\n",
       "5     Practice\n",
       "6           70\n",
       "7           19\n",
       "8           45\n",
       "9           25\n",
       "20          85\n",
       "dtype: object"
      ]
     },
     "execution_count": 157,
     "metadata": {},
     "output_type": "execute_result"
    }
   ],
   "source": [
    "ser[5] = 'Practice'\n",
    "ser"
   ]
  },
  {
   "cell_type": "code",
   "execution_count": 159,
   "id": "e7ce3fd5",
   "metadata": {},
   "outputs": [
    {
     "data": {
      "text/plain": [
       "0           10\n",
       "1          BSC\n",
       "2          130\n",
       "3           12\n",
       "4           13\n",
       "5     Practice\n",
       "6           70\n",
       "7           19\n",
       "8           45\n",
       "9          MSC\n",
       "20          85\n",
       "dtype: object"
      ]
     },
     "execution_count": 159,
     "metadata": {},
     "output_type": "execute_result"
    }
   ],
   "source": [
    "ser[[1,9]] = ['BSC','MSC']\n",
    "\n",
    "ser"
   ]
  },
  {
   "cell_type": "code",
   "execution_count": 161,
   "id": "1691ece8",
   "metadata": {},
   "outputs": [
    {
     "data": {
      "text/plain": [
       "[10, 'BSC', 130, 12, 13, 'Practice', 70, 19, 45, 'MSC', 85]"
      ]
     },
     "execution_count": 161,
     "metadata": {},
     "output_type": "execute_result"
    }
   ],
   "source": [
    "dict(ser)\n",
    "list(ser)"
   ]
  },
  {
   "cell_type": "code",
   "execution_count": 164,
   "id": "1cae9275",
   "metadata": {},
   "outputs": [
    {
     "name": "stdout",
     "output_type": "stream",
     "text": [
      "0\n",
      "1\n",
      "2\n",
      "3\n",
      "4\n",
      "5\n",
      "6\n",
      "7\n",
      "8\n",
      "9\n",
      "20\n"
     ]
    }
   ],
   "source": [
    "for i in ser.index:\n",
    "    print(i)"
   ]
  },
  {
   "cell_type": "code",
   "execution_count": 182,
   "id": "5ee0c351",
   "metadata": {},
   "outputs": [
    {
     "data": {
      "text/plain": [
       "Computer    70\n",
       "Math        65\n",
       "Name: Marks of Students, dtype: int64"
      ]
     },
     "execution_count": 182,
     "metadata": {},
     "output_type": "execute_result"
    }
   ],
   "source": [
    "# Boolean indexing\n",
    "\n",
    "marks_ser[marks_ser>60]\n",
    "\n"
   ]
  },
  {
   "cell_type": "code",
   "execution_count": 190,
   "id": "69058c48",
   "metadata": {},
   "outputs": [
    {
     "data": {
      "text/plain": [
       "93"
      ]
     },
     "execution_count": 190,
     "metadata": {},
     "output_type": "execute_result"
    }
   ],
   "source": [
    "ipl[ipl>30]"
   ]
  },
  {
   "cell_type": "code",
   "execution_count": 192,
   "id": "c9808731",
   "metadata": {},
   "outputs": [
    {
     "data": {
      "text/plain": [
       "93"
      ]
     },
     "execution_count": 192,
     "metadata": {},
     "output_type": "execute_result"
    }
   ],
   "source": [
    "ipl[ipl>30].count()"
   ]
  },
  {
   "cell_type": "code",
   "execution_count": 196,
   "id": "30778277",
   "metadata": {},
   "outputs": [
    {
     "data": {
      "text/plain": [
       "59"
      ]
     },
     "execution_count": 196,
     "metadata": {},
     "output_type": "execute_result"
    }
   ],
   "source": [
    "# Count number of day when I had more than 200 subs a day\n",
    "\n",
    "subs[subs>200].count()"
   ]
  },
  {
   "cell_type": "code",
   "execution_count": 209,
   "id": "012b551e",
   "metadata": {},
   "outputs": [
    {
     "data": {
      "text/plain": [
       "Akshay Kumar        48\n",
       "Amitabh Bachchan    45\n",
       "Ajay Devgn          38\n",
       "Salman Khan         31\n",
       "Sanjay Dutt         26\n",
       "Shah Rukh Khan      22\n",
       "Emraan Hashmi       21\n",
       "Name: lead, dtype: int64"
      ]
     },
     "execution_count": 209,
     "metadata": {},
     "output_type": "execute_result"
    }
   ],
   "source": [
    "movies_value = movies.value_counts()\n",
    "\n",
    "movies_value[movies_value>20]\n"
   ]
  },
  {
   "cell_type": "code",
   "execution_count": 210,
   "id": "378ab5d1",
   "metadata": {},
   "outputs": [
    {
     "data": {
      "text/plain": [
       "0"
      ]
     },
     "execution_count": 210,
     "metadata": {},
     "output_type": "execute_result"
    }
   ],
   "source": [
    "movies.isnull().sum()"
   ]
  },
  {
   "cell_type": "code",
   "execution_count": 212,
   "id": "e5c1ad2a",
   "metadata": {},
   "outputs": [
    {
     "data": {
      "text/plain": [
       "0"
      ]
     },
     "execution_count": 212,
     "metadata": {},
     "output_type": "execute_result"
    }
   ],
   "source": [
    "ipl.isnull().sum()"
   ]
  },
  {
   "cell_type": "code",
   "execution_count": 215,
   "id": "c5756035",
   "metadata": {},
   "outputs": [
    {
     "data": {
      "text/plain": [
       "137"
      ]
     },
     "execution_count": 215,
     "metadata": {},
     "output_type": "execute_result"
    }
   ],
   "source": [
    "ipl.duplicated().sum()"
   ]
  },
  {
   "cell_type": "code",
   "execution_count": 218,
   "id": "ffdba3f4",
   "metadata": {},
   "outputs": [
    {
     "data": {
      "text/plain": [
       "match_no\n",
       "128    113\n",
       "126    109\n",
       "123    108\n",
       "164    100\n",
       "82      99\n",
       "      ... \n",
       "195      4\n",
       "13       3\n",
       "26       2\n",
       "5        1\n",
       "87       0\n",
       "Name: runs, Length: 78, dtype: int64"
      ]
     },
     "execution_count": 218,
     "metadata": {},
     "output_type": "execute_result"
    }
   ],
   "source": [
    "ipl.drop_duplicates()"
   ]
  },
  {
   "cell_type": "code",
   "execution_count": 219,
   "id": "03a2df76",
   "metadata": {},
   "outputs": [
    {
     "data": {
      "text/plain": [
       "0"
      ]
     },
     "execution_count": 219,
     "metadata": {},
     "output_type": "execute_result"
    }
   ],
   "source": [
    "ipl.isnull().sum()"
   ]
  },
  {
   "cell_type": "code",
   "execution_count": 221,
   "id": "fc155a20",
   "metadata": {},
   "outputs": [
    {
     "data": {
      "text/plain": [
       "0     1.0\n",
       "1     2.0\n",
       "2     3.0\n",
       "3     NaN\n",
       "4     5.0\n",
       "5     6.0\n",
       "6     NaN\n",
       "7     8.0\n",
       "8     NaN\n",
       "9    10.0\n",
       "dtype: float64"
      ]
     },
     "execution_count": 221,
     "metadata": {},
     "output_type": "execute_result"
    }
   ],
   "source": [
    "import numpy as np\n",
    "temp = pd.Series([1,2,3,np.nan,5,6,np.nan,8,np.nan,10])\n",
    "temp"
   ]
  },
  {
   "cell_type": "code",
   "execution_count": 222,
   "id": "fa880979",
   "metadata": {},
   "outputs": [
    {
     "data": {
      "text/plain": [
       "3"
      ]
     },
     "execution_count": 222,
     "metadata": {},
     "output_type": "execute_result"
    }
   ],
   "source": [
    "temp.isnull().sum()"
   ]
  },
  {
   "cell_type": "code",
   "execution_count": 224,
   "id": "3c37d413",
   "metadata": {},
   "outputs": [
    {
     "data": {
      "text/plain": [
       "10"
      ]
     },
     "execution_count": 224,
     "metadata": {},
     "output_type": "execute_result"
    }
   ],
   "source": [
    "temp.size"
   ]
  },
  {
   "cell_type": "code",
   "execution_count": 225,
   "id": "564b4bb7",
   "metadata": {},
   "outputs": [
    {
     "data": {
      "text/plain": [
       "7"
      ]
     },
     "execution_count": 225,
     "metadata": {},
     "output_type": "execute_result"
    }
   ],
   "source": [
    "temp.count()"
   ]
  },
  {
   "cell_type": "code",
   "execution_count": 229,
   "id": "b6326a5c",
   "metadata": {},
   "outputs": [
    {
     "data": {
      "text/plain": [
       "0     1.0\n",
       "1     2.0\n",
       "2     3.0\n",
       "4     5.0\n",
       "5     6.0\n",
       "7     8.0\n",
       "9    10.0\n",
       "dtype: float64"
      ]
     },
     "execution_count": 229,
     "metadata": {},
     "output_type": "execute_result"
    }
   ],
   "source": [
    "temp.dropna(inplace=True)\n",
    "temp"
   ]
  },
  {
   "cell_type": "code",
   "execution_count": null,
   "id": "0f79f6e6",
   "metadata": {},
   "outputs": [],
   "source": []
  }
 ],
 "metadata": {
  "kernelspec": {
   "display_name": "Python 3 (ipykernel)",
   "language": "python",
   "name": "python3"
  },
  "language_info": {
   "codemirror_mode": {
    "name": "ipython",
    "version": 3
   },
   "file_extension": ".py",
   "mimetype": "text/x-python",
   "name": "python",
   "nbconvert_exporter": "python",
   "pygments_lexer": "ipython3",
   "version": "3.9.12"
  }
 },
 "nbformat": 4,
 "nbformat_minor": 5
}
